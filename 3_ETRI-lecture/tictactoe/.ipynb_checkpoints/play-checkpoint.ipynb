{
 "cells": [
  {
   "cell_type": "code",
   "execution_count": null,
   "metadata": {
    "collapsed": true
   },
   "outputs": [],
   "source": [
    "import sys\n",
    "import numpy as np\n",
    "import tensorflow as tf\n",
    "import tictactoe"
   ]
  },
  {
   "cell_type": "code",
   "execution_count": null,
   "metadata": {},
   "outputs": [],
   "source": [
    "with tf.Graph().as_default() as g:\n",
    "    sess = tf.Session()\n",
    "    meta_graph = tf.saved_model.loader.load(\n",
    "        sess=sess,\n",
    "        tags=[tf.saved_model.tag_constants.SERVING],\n",
    "        export_dir=\"model\"\n",
    "    )\n",
    "    model_signature = meta_graph.signature_def[tf.saved_model.signature_constants.DEFAULT_SERVING_SIGNATURE_DEF_KEY]\n",
    "    input_signature = model_signature.inputs\n",
    "    output_signature = model_signature.outputs\n",
    "    # Get names of input and output tensors\n",
    "    input_tensor_name = input_signature[\"x\"].name\n",
    "    output_tensor_name = output_signature[\"y\"].name\n",
    "    # Get input and output tensors\n",
    "    x_ph = sess.graph.get_tensor_by_name(input_tensor_name)\n",
    "    y = sess.graph.get_tensor_by_name(output_tensor_name)"
   ]
  },
  {
   "cell_type": "code",
   "execution_count": null,
   "metadata": {
    "collapsed": true
   },
   "outputs": [],
   "source": [
    "env = tictactoe.TicTacToeEnv()\n",
    "observation = env.reset()\n",
    "done = False\n",
    "info = None"
   ]
  },
  {
   "cell_type": "code",
   "execution_count": null,
   "metadata": {
    "collapsed": true
   },
   "outputs": [],
   "source": [
    "rule = \"\"\"\n",
    "Input your move!\n",
    "\n",
    "[0] top-left-square\n",
    "[1] top-middle-square\n",
    "[2] top-right-square\n",
    "[3] middle-left-square\n",
    "[4] middle-middle-square\n",
    "[5] middle-right-square\n",
    "[6] bottom-left-square\n",
    "[7] bottom-middle-square\n",
    "[8] bottom-right-square\n",
    "\"\"\""
   ]
  },
  {
   "cell_type": "code",
   "execution_count": null,
   "metadata": {},
   "outputs": [],
   "source": [
    "print(rule)"
   ]
  },
  {
   "cell_type": "code",
   "execution_count": null,
   "metadata": {},
   "outputs": [],
   "source": [
    "for _ in range(9):\n",
    "    env.render()\n",
    "    if done:\n",
    "        if info[\"x\"]:\n",
    "            print(\"x win!\")\n",
    "        elif info[\"o\"]:\n",
    "            print(\"o win!\")\n",
    "        else:\n",
    "            print(\"Draw!\")\n",
    "        break\n",
    "    # Compute scores\n",
    "    prob_x_win = -np.ones(9)\n",
    "    prob_o_win = np.ones(9)\n",
    "    # prob_draw = np.zeros(9)\n",
    "    for i in range(9):\n",
    "        if env.board[i] == 0:\n",
    "            board_copy = np.array([env.board])\n",
    "            board_copy[0][i] = 1\n",
    "            prob = sess.run(y, feed_dict={x_ph: board_copy})\n",
    "            # print i, prob\n",
    "            prob_x_win[i] = prob[0][0]\n",
    "            prob_o_win[i] = prob[0][1]\n",
    "            # prob_draw = prob[0][2]\n",
    "    # Decide CPU's move\n",
    "    if max(prob_x_win) >= 0.05:\n",
    "        cpu_move = prob_x_win.argmax()\n",
    "    else:\n",
    "        cpu_move = prob_o_win.argmin()\n",
    "    _, _, done, info = env.step(cpu_move)\n",
    "    env.render()\n",
    "    if done:\n",
    "        if info[\"x\"]:\n",
    "            print(\"x win!\")\n",
    "        elif info[\"o\"]:\n",
    "            print(\"o win!\")\n",
    "        else:\n",
    "            print(\"Draw!\")\n",
    "        break\n",
    "    while True:\n",
    "        sys.stdout.write(\"Input your move: \")\n",
    "        player_move = input()\n",
    "        _, _, done, info = env.step(player_move)\n",
    "        if info[\"valid\"]:\n",
    "            break"
   ]
  },
  {
   "cell_type": "code",
   "execution_count": null,
   "metadata": {
    "collapsed": true
   },
   "outputs": [],
   "source": []
  }
 ],
 "metadata": {
  "kernelspec": {
   "display_name": "Python 2",
   "language": "python",
   "name": "python2"
  },
  "language_info": {
   "codemirror_mode": {
    "name": "ipython",
    "version": 2
   },
   "file_extension": ".py",
   "mimetype": "text/x-python",
   "name": "python",
   "nbconvert_exporter": "python",
   "pygments_lexer": "ipython2",
   "version": "2.7.12"
  }
 },
 "nbformat": 4,
 "nbformat_minor": 2
}
